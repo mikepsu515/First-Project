{
 "cells": [
  {
   "cell_type": "markdown",
   "id": "bba6fdfc-8472-4f89-915c-5a9fe8c75efd",
   "metadata": {},
   "source": [
    "# Data Science Tools and Ecosystem"
   ]
  },
  {
   "cell_type": "markdown",
   "id": "8cfdfa8e-d9c1-4a5d-9654-8152ca338348",
   "metadata": {},
   "source": [
    "In this notebook, Data Science Tools and Ecosystem are summarized"
   ]
  },
  {
   "cell_type": "markdown",
   "id": "04645575-c4b6-41ee-84dd-de4b7e9bb1ff",
   "metadata": {},
   "source": [
    "### Objectives\n",
    "+ List popular languages for data science\n",
    "+ List Commonly used libraries used by Data Science\n",
    "+ Calculate simple arithmetic equation\n",
    "+ Converted 200 seconds into hours "
   ]
  },
  {
   "cell_type": "markdown",
   "id": "31e9de63-f42a-4f43-8168-5597b912e6ee",
   "metadata": {},
   "source": [
    "Some of the popular languages that Data Scientists uses are:\n",
    "\n",
    "1. Python\n",
    "2. R\n",
    "3. SQL"
   ]
  },
  {
   "cell_type": "markdown",
   "id": "e280f52f-495b-42f9-a2d6-070d409ee47c",
   "metadata": {},
   "source": [
    "Some of the commonly used libraries used by Data Scientists include:\n",
    "\n",
    "1. Matplotlib\n",
    "2. Numpy\n",
    "3. Keras\n",
    "4. Sci-kit learn"
   ]
  },
  {
   "cell_type": "markdown",
   "id": "8e6464c3-4be1-469a-915f-0975501d21a0",
   "metadata": {},
   "source": [
    "|Data Science Tools|\n",
    "|------|\n",
    "|Apache Hadoop|\n",
    "|Jupyter Notebooks|\n",
    "|TenserFlow|"
   ]
  },
  {
   "cell_type": "code",
   "execution_count": 3,
   "id": "8d0f0ed2-b020-471f-aa85-1de01a611c23",
   "metadata": {},
   "outputs": [
    {
     "data": {
      "text/plain": [
       "17"
      ]
     },
     "execution_count": 3,
     "metadata": {},
     "output_type": "execute_result"
    }
   ],
   "source": [
    "#This is a simple arithmetic expression to multiply then add integers\n",
    "(3*4)+5"
   ]
  },
  {
   "cell_type": "code",
   "execution_count": 4,
   "id": "5a3de70d-8779-4379-9593-5459c00b93f7",
   "metadata": {
    "scrolled": true
   },
   "outputs": [
    {
     "data": {
      "text/plain": [
       "3.3333333333333335"
      ]
     },
     "execution_count": 4,
     "metadata": {},
     "output_type": "execute_result"
    }
   ],
   "source": [
    "#This will convert 200 seconds to hours by dividing by 60\n",
    "200/60"
   ]
  },
  {
   "cell_type": "markdown",
   "id": "8f705488-af26-4a3b-accd-0935660c1b9e",
   "metadata": {},
   "source": [
    "## Author\n",
    "Michael M-D "
   ]
  },
  {
   "cell_type": "code",
   "execution_count": null,
   "id": "98fe0cfb-9624-4c23-84ae-e394b253c38e",
   "metadata": {},
   "outputs": [],
   "source": []
  }
 ],
 "metadata": {
  "kernelspec": {
   "display_name": "Python 3 (ipykernel)",
   "language": "python",
   "name": "python3"
  },
  "language_info": {
   "codemirror_mode": {
    "name": "ipython",
    "version": 3
   },
   "file_extension": ".py",
   "mimetype": "text/x-python",
   "name": "python",
   "nbconvert_exporter": "python",
   "pygments_lexer": "ipython3",
   "version": "3.11.7"
  }
 },
 "nbformat": 4,
 "nbformat_minor": 5
}
